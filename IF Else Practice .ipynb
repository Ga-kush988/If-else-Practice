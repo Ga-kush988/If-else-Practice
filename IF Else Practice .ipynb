{
 "cells": [
  {
   "cell_type": "markdown",
   "id": "08181f56",
   "metadata": {},
   "source": [
    "### Q1. Write a program to calculate the electricity bill using only if statement? (accept number of unit from user) "
   ]
  },
  {
   "cell_type": "code",
   "execution_count": null,
   "id": "87edd7f6",
   "metadata": {},
   "outputs": [],
   "source": [
    "Bill = 0\n",
    "Units = int(input(\"Enter number of unit : \" ))\n",
    "if (Units <= 100):\n",
    "        print(\"No Charge\")\n",
    "if Units > 100:\n",
    "        Bill = Bill+100*5\n",
    "if Units >=200 <=350:\n",
    "        Bill = Bill+(Units-200)*10\n",
    "        \n",
    "print(\"Total electricity bill is\", Bill )"
   ]
  },
  {
   "cell_type": "markdown",
   "id": "f5041fbc",
   "metadata": {},
   "source": [
    "### Q2. Write a program to accept percentage from the user and display the grade according to the following criteria:"
   ]
  },
  {
   "cell_type": "code",
   "execution_count": 2,
   "id": "0da9bea8",
   "metadata": {},
   "outputs": [
    {
     "name": "stdout",
     "output_type": "stream",
     "text": [
      "Enter your percentage : 40\n",
      "A\n"
     ]
    }
   ],
   "source": [
    "User = input (\"Enter your percentage : \")\n",
    "\n",
    "Marks = 100\n",
    "\n",
    "if Marks>90:\n",
    "    print(\"A\")\n",
    "    \n",
    "elif (Marks >=80 <= 90):\n",
    "    print(\"B\")\n",
    "\n",
    "elif (Marks >=60 <= 80):\n",
    "    print(\"c\")    \n",
    "\n",
    "else:\n",
    "    print(\"D\")"
   ]
  },
  {
   "cell_type": "markdown",
   "id": "25e9fa2e",
   "metadata": {},
   "source": [
    "### Q3. Accept the age of 4 people and display the youngest one?"
   ]
  },
  {
   "cell_type": "code",
   "execution_count": 8,
   "id": "d3ce2098",
   "metadata": {},
   "outputs": [
    {
     "name": "stdout",
     "output_type": "stream",
     "text": [
      "Enter the age of person 1: 5\n",
      "Enter the age of person 2: 7\n",
      "Enter the age of person 3: 9\n",
      "Enter the age of person 4: 8\n",
      "The youngest age is: 5\n"
     ]
    }
   ],
   "source": [
    "# Accept ages from the user\n",
    "age1 = int(input(\"Enter the age of person 1: \"))\n",
    "age2 = int(input(\"Enter the age of person 2: \"))\n",
    "age3 = int(input(\"Enter the age of person 3: \"))\n",
    "age4 = int(input(\"Enter the age of person 4: \"))\n",
    "\n",
    "# Use if-else to find the youngest\n",
    "if age1 <= age2 and age1 <= age3 and age1 <= age4:\n",
    "    youngest = age1\n",
    "elif age2 <= age1 and age2 <= age3 and age2 <= age4:\n",
    "    youngest = age2\n",
    "elif age3 <= age1 and age3 <= age2 and age3 <= age4:\n",
    "    youngest = age3\n",
    "else:\n",
    "    youngest = age4\n",
    "\n",
    "print(f\"The youngest age is: {youngest}\")"
   ]
  },
  {
   "cell_type": "markdown",
   "id": "db004aab",
   "metadata": {},
   "source": [
    "### Q4. Ask user for their salary and years of service and print the net bonus amount?"
   ]
  },
  {
   "cell_type": "code",
   "execution_count": 10,
   "id": "f6bc4418",
   "metadata": {},
   "outputs": [
    {
     "name": "stdout",
     "output_type": "stream",
     "text": [
      "Enter your salary: 50000\n",
      "Enter year of service: 5\n",
      "Net bonus amount is 2500.0\n",
      "Net  net salary is 52500.0\n"
     ]
    }
   ],
   "source": [
    "User_Salary = float(input(\"Enter your salary: \"))\n",
    "User_YOS = float(input(\"Enter year of service: \"))\n",
    "\n",
    "if User_YOS > 10:\n",
    "    Bonus = 0.10 * User_Salary\n",
    "    net_salary = User_Salary + Bonus\n",
    "    \n",
    "elif User_YOS >= 6 and User_YOS <= 10:\n",
    "        Bonus = 0.08 * User_Salary\n",
    "        net_salary = User_Salary + Bonus\n",
    "else:\n",
    "    Bonus = 0.05*User_Salary\n",
    "    net_salary = User_Salary + Bonus\n",
    "    \n",
    "\n",
    "print(\"Net bonus amount is\", Bonus )\n",
    "\n",
    "print(\"Net  net salary is\",  net_salary )"
   ]
  },
  {
   "cell_type": "markdown",
   "id": "86e90c42",
   "metadata": {},
   "source": [
    "### Q5.Accept three numbers from the user and display the second largest number?"
   ]
  },
  {
   "cell_type": "code",
   "execution_count": 29,
   "id": "90bec6c8",
   "metadata": {},
   "outputs": [
    {
     "name": "stdout",
     "output_type": "stream",
     "text": [
      "Enter the number 1: 4\n",
      "Enter the number 2: 6\n",
      "Enter the number 3: 9\n",
      "The second largest number is: 6\n"
     ]
    }
   ],
   "source": [
    "number1 = float(input(\"Enter the number 1: \"))\n",
    "number2 = float(input(\"Enter the number 2: \"))\n",
    "number3 = float(input(\"Enter the number 3: \"))\n",
    "\n",
    "if number1 > number2 and number1 > number3: \n",
    "    if number2 > number3:\n",
    "        second_largest = number2\n",
    "    else:\n",
    "        second_largest = number3\n",
    "    \n",
    "elif number2 > number1 and number2 > number3:\n",
    "    if number1 > number3:\n",
    "        second_largest = number1\n",
    "    else:\n",
    "        second_largest = number3\n",
    "else:\n",
    "        if number1 > number2:\n",
    "              second_largest = number1\n",
    "        else:\n",
    "            second_largest = number2\n",
    "\n",
    "print(\"The second largest number is:\", second_largest)"
   ]
  },
  {
   "cell_type": "markdown",
   "id": "099e89aa",
   "metadata": {},
   "source": [
    "### Q6. Accept the marked price from the user and calculate the Net amount as (Marked Price – Discount) to pay according to following criteria:"
   ]
  },
  {
   "cell_type": "code",
   "execution_count": 10,
   "id": "b3f654fb",
   "metadata": {},
   "outputs": [
    {
     "name": "stdout",
     "output_type": "stream",
     "text": [
      "Enter the marked price: 100\n",
      "Discount: 10.0\n",
      "Net amount to pay: 90.0\n"
     ]
    }
   ],
   "source": [
    "# Accept marked price from the user\n",
    "marked_price = float(input(\"Enter the marked price: \"))\n",
    "\n",
    "# Apply discount based on the marked price\n",
    "if marked_price > 10000:\n",
    "    discount = 0.20 * marked_price\n",
    "elif marked_price > 7000 and marked_price <= 10000:\n",
    "    discount = 0.15 * marked_price\n",
    "else:  # marked_price <= 7000\n",
    "    discount = 0.10 * marked_price\n",
    "\n",
    "# Calculate net amount\n",
    "net_amount = marked_price - discount\n",
    "\n",
    "# Display the result\n",
    "print(f\"Discount: {discount}\")\n",
    "print(f\"Net amount to pay: {net_amount}\")"
   ]
  },
  {
   "cell_type": "markdown",
   "id": "22b165c3",
   "metadata": {},
   "source": [
    "### Q7. Accept the marks of English, Math and Science, Social Studies Subject and display the stream allotted according to following:"
   ]
  },
  {
   "cell_type": "code",
   "execution_count": 17,
   "id": "56897ecd",
   "metadata": {},
   "outputs": [
    {
     "name": "stdout",
     "output_type": "stream",
     "text": [
      "Enter marks in English: 80\n",
      "Enter marks in Math: 87\n",
      "Enter marks in Science: 65\n",
      "Enter marks in Social Studies: 78\n",
      "No stream allotted based on the given criteria.\n"
     ]
    }
   ],
   "source": [
    "# Accept marks from the user\n",
    "english = int(input(\"Enter marks in English: \"))\n",
    "math = int(input(\"Enter marks in Math: \"))\n",
    "science = int(input(\"Enter marks in Science: \"))\n",
    "social_Studies = int(input(\"Enter marks in Social Studies: \"))\n",
    "\n",
    "#stream based on the conditions\n",
    "if english > 80 and math > 80 and science > 80 and social_Studies > 80:\n",
    "    print(\"Stream Allotted: Science Stream\")\n",
    "elif english > 80 and math > 50 and science > 50:\n",
    "    print(\"Stream Allotted: Commerce Stream\")\n",
    "elif english > 80 and social_Studies > 80:\n",
    "    print(\"Stream Allotted: Humanities Stream\")\n",
    "else:\n",
    "    print(\"No stream allotted based on the given criteria.\")"
   ]
  },
  {
   "cell_type": "markdown",
   "id": "b92dab6e",
   "metadata": {},
   "source": [
    "### Q8. Write a program to display \"Hello\" if a number entered by user is a multiple of five, otherwise print \"Bye\"?"
   ]
  },
  {
   "cell_type": "code",
   "execution_count": 1,
   "id": "10d4a44f",
   "metadata": {},
   "outputs": [
    {
     "name": "stdout",
     "output_type": "stream",
     "text": [
      "Enter the number: 7\n",
      "Bye\n"
     ]
    }
   ],
   "source": [
    "# Accept number from the user\n",
    "number = int(input(\"Enter the number: \"))\n",
    "#condition for Multiple of 5\n",
    "if number % 5 == 0:\n",
    "    print(\"Hello\")\n",
    "else:\n",
    "    print (\"Bye\")"
   ]
  },
  {
   "cell_type": "markdown",
   "id": "a13e3fb7",
   "metadata": {},
   "source": [
    "### Q9. Write a program to check whether the last digit of a number (entered by user) is divisible by 3 or not?"
   ]
  },
  {
   "cell_type": "code",
   "execution_count": 7,
   "id": "c7d756ec",
   "metadata": {},
   "outputs": [
    {
     "name": "stdout",
     "output_type": "stream",
     "text": [
      "Enter the number : 56\n",
      "Last digit is divisible by 3.\n"
     ]
    }
   ],
   "source": [
    "number = int (input(\"Enter the number : \"))\n",
    "\n",
    "x = abs(number) % 10 #last digit\n",
    "\n",
    "if x % 3 == 0:\n",
    "    print(\"Last digit is divisible by 3.\")\n",
    "else:\n",
    "    print(\"Last digit is not divisible by 3.\")"
   ]
  },
  {
   "cell_type": "markdown",
   "id": "1b36267c",
   "metadata": {},
   "source": [
    "### Q10. Write a program to check whether a number entered is three-digit number or not?"
   ]
  },
  {
   "cell_type": "code",
   "execution_count": 2,
   "id": "ab2c5fba",
   "metadata": {},
   "outputs": [
    {
     "name": "stdout",
     "output_type": "stream",
     "text": [
      "Enter the number: 1234\n",
      "The number is not a three digit number: \n"
     ]
    }
   ],
   "source": [
    "number = int(input(\"Enter the number: \"))\n",
    "\n",
    "if 100 <= abs(number) <= 999:\n",
    "    print(\"The number is a three digit number: \")\n",
    "else:\n",
    "    print(\"The number is not a three digit number: \") "
   ]
  },
  {
   "cell_type": "code",
   "execution_count": null,
   "id": "a101b463",
   "metadata": {},
   "outputs": [],
   "source": []
  },
  {
   "cell_type": "code",
   "execution_count": null,
   "id": "4f2a2a97",
   "metadata": {},
   "outputs": [],
   "source": []
  },
  {
   "cell_type": "code",
   "execution_count": null,
   "id": "8a30ba03",
   "metadata": {},
   "outputs": [],
   "source": []
  }
 ],
 "metadata": {
  "kernelspec": {
   "display_name": "Python 3 (ipykernel)",
   "language": "python",
   "name": "python3"
  },
  "language_info": {
   "codemirror_mode": {
    "name": "ipython",
    "version": 3
   },
   "file_extension": ".py",
   "mimetype": "text/x-python",
   "name": "python",
   "nbconvert_exporter": "python",
   "pygments_lexer": "ipython3",
   "version": "3.9.7"
  }
 },
 "nbformat": 4,
 "nbformat_minor": 5
}
